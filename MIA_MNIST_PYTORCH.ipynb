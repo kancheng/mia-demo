{
 "cells": [
  {
   "cell_type": "code",
   "execution_count": 1,
   "id": "75eccfd8-ec97-43df-862a-335721fa65ef",
   "metadata": {},
   "outputs": [],
   "source": [
    "import torch\n",
    "import torch.nn as nn\n",
    "import torch.optim as optim\n",
    "from torchvision import datasets, transforms\n",
    "from art.estimators.classification import PyTorchClassifier\n",
    "from art.attacks.evasion import FastGradientMethod\n",
    "from art.attacks.inference.model_inversion import MIFace\n",
    "\n",
    "# 設定裝置\n",
    "device = torch.device(\"cuda\" if torch.cuda.is_available() else \"cpu\")\n",
    "\n",
    "# 定義簡單的神經網絡\n",
    "class SimpleCNN(nn.Module):\n",
    "    def __init__(self):\n",
    "        super(SimpleCNN, self).__init__()\n",
    "        self.conv1 = nn.Conv2d(1, 10, kernel_size=5)\n",
    "        self.conv2 = nn.Conv2d(10, 20, kernel_size=5)\n",
    "        self.fc1 = nn.Linear(320, 50)\n",
    "        self.fc2 = nn.Linear(50, 10)\n",
    "\n",
    "    def forward(self, x):\n",
    "        x = nn.functional.relu(nn.functional.max_pool2d(self.conv1(x), 2))\n",
    "        x = nn.functional.relu(nn.functional.max_pool2d(self.conv2(x), 2))\n",
    "        x = x.view(-1, 320)\n",
    "        x = nn.functional.relu(self.fc1(x))\n",
    "        x = self.fc2(x)\n",
    "        return x\n",
    "\n",
    "# 設定數據集與轉換\n",
    "transform = transforms.Compose([transforms.ToTensor()])\n",
    "train_dataset = datasets.MNIST('./data', train=True, download=True, transform=transform)\n",
    "\n",
    "# 加載數據集\n",
    "train_loader = torch.utils.data.DataLoader(train_dataset, batch_size=64, shuffle=True)\n",
    "\n",
    "# 初始化模型\n",
    "model = SimpleCNN().to(device)\n",
    "\n",
    "# 設定損失函數與優化器\n",
    "criterion = nn.CrossEntropyLoss()\n",
    "optimizer = optim.Adam(model.parameters(), lr=0.001)\n",
    "\n"
   ]
  },
  {
   "cell_type": "code",
   "execution_count": 2,
   "id": "3289887f-a51a-4455-80e6-1b00ded3bc01",
   "metadata": {},
   "outputs": [],
   "source": [
    "# 訓練模型\n",
    "model.train()\n",
    "for epoch in range(3):  # 訓練3個epoch\n",
    "    for batch_idx, (data, target) in enumerate(train_loader):\n",
    "        data, target = data.to(device), target.to(device)\n",
    "        optimizer.zero_grad()\n",
    "        output = model(data)\n",
    "        loss = criterion(output, target)\n",
    "        loss.backward()\n",
    "        optimizer.step()\n",
    "\n",
    "# 使用 ART 的 PyTorchClassifier 將模型封裝\n",
    "classifier = PyTorchClassifier(\n",
    "    model=model,\n",
    "    loss=criterion,\n",
    "    optimizer=optimizer,\n",
    "    input_shape=(1, 28, 28),\n",
    "    nb_classes=10,\n",
    ")\n"
   ]
  },
  {
   "cell_type": "code",
   "execution_count": 3,
   "id": "c7dd0429-1c4b-4cd7-888e-7207d5cc5a62",
   "metadata": {},
   "outputs": [
    {
     "data": {
      "application/vnd.jupyter.widget-view+json": {
       "model_id": "c137daa534154f93972f53b9657d4cf3",
       "version_major": 2,
       "version_minor": 0
      },
      "text/plain": [
       "Model inversion:   0%|          | 0/1 [00:00<?, ?it/s]"
      ]
     },
     "metadata": {},
     "output_type": "display_data"
    },
    {
     "data": {
      "image/png": "[encoded data removed]",
      "text/plain": [
       "<Figure size 640x480 with 1 Axes>"
      ]
     },
     "metadata": {},
     "output_type": "display_data"
    }
   ],
   "source": [
    "import numpy as np\n",
    "\n",
    "# 初始化模型侵害攻擊 (Model Inversion Attack)\n",
    "mia_attack = MIFace(classifier, max_iter=100)\n",
    "\n",
    "import numpy as np\n",
    "\n",
    "# 生成模型侵害圖片 (進行反向推理以恢復訓練數據的輸入)\n",
    "# 假設目標類別為 '3'\n",
    "# Convert the list to a NumPy array\n",
    "y_target = np.array([3])  # Assuming '3' is the class you want to reverse\n",
    "\n",
    "# Perform the attack with the corrected label format\n",
    "reconstructed_image = mia_attack.infer(x=None, y=y_target)\n",
    "\n",
    "# 可視化恢復出的圖片\n",
    "import matplotlib.pyplot as plt\n",
    "plt.imshow(reconstructed_image[0].reshape(28, 28), cmap=\"gray\")\n",
    "plt.title(\"Reconstructed Image for Label 3\")\n",
    "plt.show()"
   ]
  },
  {
   "cell_type": "code",
   "execution_count": null,
   "id": "b7d6d30f-8638-4261-9985-a1301cf8c287",
   "metadata": {},
   "outputs": [],
   "source": []
  }
 ],
 "metadata": {
  "kernelspec": {
   "display_name": "Python 3 (ipykernel)",
   "language": "python",
   "name": "python3"
  },
  "language_info": {
   "codemirror_mode": {
    "name": "ipython",
    "version": 3
   },
   "file_extension": ".py",
   "mimetype": "text/x-python",
   "name": "python",
   "nbconvert_exporter": "python",
   "pygments_lexer": "ipython3",
   "version": "3.8.19"
  }
 },
 "nbformat": 4,
 "nbformat_minor": 5
}
